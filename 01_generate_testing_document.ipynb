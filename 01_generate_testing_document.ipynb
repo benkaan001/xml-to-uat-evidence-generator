{
 "cells": [
  {
   "cell_type": "code",
   "execution_count": 1,
   "id": "9dada8f0",
   "metadata": {},
   "outputs": [],
   "source": [
    "import pandas as pd\n",
    "import xml.etree.ElementTree as ET"
   ]
  },
  {
   "cell_type": "code",
   "execution_count": 2,
   "id": "7896bcd3",
   "metadata": {},
   "outputs": [
    {
     "data": {
      "text/plain": [
       "<Element 'DEFTABLE' at 0x1060ffc90>"
      ]
     },
     "execution_count": 2,
     "metadata": {},
     "output_type": "execute_result"
    }
   ],
   "source": [
    "xml_path = 'sample_data/sample_config.xml'\n",
    "\n",
    "# Parse the XML\n",
    "root = ET.parse(xml_path).getroot()\n",
    "root"
   ]
  },
  {
   "cell_type": "code",
   "execution_count": 3,
   "id": "e6845927",
   "metadata": {},
   "outputs": [
    {
     "name": "stdout",
     "output_type": "stream",
     "text": [
      "Folder Name: FIN-PROD-GL-ETL-DATAMART-001\n",
      "Folder Name: MKT-PROD-CAMP-RPT-DATAMART-101\n",
      "Folder Name: HR-DEV-PAYROLL-UTIL-555\n",
      "Folder Name: OPS-PREPROD-SAFETY-INCIDENT-DATAMART-TRACKING-201\n",
      "Folder Name: ENG-PROD-TRACK-MAINT-1109\n",
      "Folder Name: REV-PROD-WAYBILL-PROC-DATAMART-1060\n",
      "Folder Name: REF-PROD-CUSTOMER-MASTER-1067\n",
      "Folder Name: SCM-PROD-INVENTORY-MGMT-DATAMART-INV01\n"
     ]
    }
   ],
   "source": [
    "# Create a dictionary to store the data for each folder\n",
    "folder_data = dict()\n",
    "\n",
    "# Iterate over all FOLDER elements\n",
    "for folder in root.iter('FOLDER'):\n",
    "    folder_name = folder.attrib['FOLDER_NAME']\n",
    "    print(f\"Folder Name: {folder_name}\")"
   ]
  },
  {
   "cell_type": "code",
   "execution_count": 4,
   "id": "4174443a",
   "metadata": {},
   "outputs": [
    {
     "name": "stdout",
     "output_type": "stream",
     "text": [
      "FIN-PROD-GL-ETL-DATAMART-001: ['FIN-PROD-GL-ETL-DATAMART-001-DW-Load_Chart_Accounts', 'FIN-PROD-GL-ETL-DATAMART-001-DW-Process_GL_Transactions_Daily', 'FIN-PROD-GL-ETL-DATAMART-001-DW-Aggregate_GL_Summary_EOD', 'FIN-PROD-GL-ETL-DATAMART-001-CMD-Archive_Logs']\n",
      "MKT-PROD-CAMP-RPT-DATAMART-101: ['MKT-PROD-CAMP-RPT-DATAMART-101-ADF-Extract_Campaign_Data', 'MKT-PROD-CAMP-RPT-DATAMART-101-ADB-Transform_Campaign_Metrics', 'MKT-PROD-CAMP-RPT-DATAMART-101-DW-Load_Campaign_Report_Data', 'MKT-PROD-CAMP-RPT-DATAMART-101-CMD-Generate_Campaign_Report_PDF']\n",
      "HR-DEV-PAYROLL-UTIL-555: ['HR-DEV-PAYROLL-UTIL-555-DW-Validate_Payroll_Input', 'HR-DEV-PAYROLL-UTIL-555-DW-Calculate_Payroll_Taxes', 'HR-DEV-PAYROLL-UTIL-555-DW-Generate_Paystubs']\n",
      "OPS-PREPROD-SAFETY-INCIDENT-DATAMART-TRACKING-201: ['OPS-PREPROD-SAFETY-INCIDENT-DATAMART-TRACKING-201-ADF-Ingest_Incident_Reports', 'OPS-PREPROD-SAFETY-INCIDENT-DATAMART-TRACKING-201-ADB-Analyze_Incident_Trends', 'OPS-PREPROD-SAFETY-INCIDENT-DATAMART-TRACKING-201-DW-Load_Safety_Dashboard', 'OPS-PREPROD-SAFETY-INCIDENT-DATAMART-TRACKING-201-CMD-Send_Safety_Alerts', 'OPS-PREPROD-SAFETY-INCIDENT-DATAMART-TRACKING-201-CMD-Cleanup_Temp_Files']\n",
      "ENG-PROD-TRACK-MAINT-1109: ['ENG-PROD-TRACK-MAINT-1109-ADF-Load_Maintenance_Schedules', 'ENG-PROD-TRACK-MAINT-1109-DW-Update_Track_Status']\n"
     ]
    }
   ],
   "source": [
    "folder_data = dict()\n",
    "\n",
    "for i, folder in enumerate(root.iter('FOLDER')):\n",
    "    folder_name = folder.attrib['FOLDER_NAME']\n",
    "    # Initiate an empty list for each folder in the folder data dictionary\n",
    "    folder_data[folder_name] = list()\n",
    "\n",
    "    # Iterate over all JOB elements within the current folder\n",
    "    for job in folder.iter('JOB'):\n",
    "        job_folder = folder_data[folder_name]\n",
    "        job_name = job.attrib['JOBNAME']\n",
    "        job_folder.append(job_name)\n",
    "\n",
    "    if i > 3:\n",
    "        break\n",
    "\n",
    "for k, v in folder_data.items():\n",
    "    print(f\"{k}: {v}\")"
   ]
  },
  {
   "cell_type": "code",
   "execution_count": 5,
   "id": "415039bc",
   "metadata": {},
   "outputs": [
    {
     "name": "stdout",
     "output_type": "stream",
     "text": [
      "Excel sheets created successfully.\n"
     ]
    },
    {
     "name": "stderr",
     "output_type": "stream",
     "text": [
      "/Users/benkaan/Desktop/projects/xml-to-uat-evidence-generator/.venv/lib/python3.13/site-packages/openpyxl/workbook/child.py:99: UserWarning: Title is more than 31 characters. Some applications may not be able to read the file\n",
      "  warnings.warn(\"Title is more than 31 characters. Some applications may not be able to read the file\")\n"
     ]
    }
   ],
   "source": [
    "# Create a dictionary to store the data for each folder\n",
    "folder_data = dict()\n",
    "\n",
    "# Iterate over all FOLDER elements\n",
    "for i, folder in enumerate(root.iter('FOLDER')):\n",
    "    folder_name = folder.attrib['FOLDER_NAME']\n",
    "    # Initiate an empty list for each folder in the folder data dictionary\n",
    "    folder_data[folder_name] = list()\n",
    "\n",
    "    # Iterate over all JOB elements within the current folder\n",
    "    for job in folder.iter('JOB'):\n",
    "        job_folder = folder_data[folder_name]\n",
    "        job_name = job.attrib['JOBNAME']\n",
    "        job_folder.append(job_name)\n",
    "\n",
    "# Create and Excel wirter object\n",
    "writer = pd.ExcelWriter('sample_output/test_evidence_from_script.xlsx')\n",
    "\n",
    "# Iterate over the folder data dictionary and write each folder's data to a seperate sheet\n",
    "for folder_name, job_names in folder_data.items():\n",
    "    # If folder name longer than 31 max character limit given per sheet, shorten the folder name by removing DATAMART\n",
    "    if len(folder_name) > 31:\n",
    "        folder_name = folder_name.replace('-DATAMART', '')\n",
    "    df = pd.DataFrame({'Job Name': job_names})\n",
    "    df.to_excel(writer,\n",
    "               sheet_name = folder_name,\n",
    "               index= False,\n",
    "               startrow=1,\n",
    "               startcol=1)\n",
    "\n",
    "# Save the Excel file\n",
    "writer.close()\n",
    "\n",
    "print(\"Excel sheets created successfully.\")"
   ]
  }
 ],
 "metadata": {
  "kernelspec": {
   "display_name": ".venv",
   "language": "python",
   "name": "python3"
  },
  "language_info": {
   "codemirror_mode": {
    "name": "ipython",
    "version": 3
   },
   "file_extension": ".py",
   "mimetype": "text/x-python",
   "name": "python",
   "nbconvert_exporter": "python",
   "pygments_lexer": "ipython3",
   "version": "3.13.1"
  }
 },
 "nbformat": 4,
 "nbformat_minor": 5
}
